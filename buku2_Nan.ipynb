{
 "cells": [
  {
   "cell_type": "code",
   "execution_count": 1,
   "metadata": {},
   "outputs": [
    {
     "name": "stdout",
     "output_type": "stream",
     "text": [
      "        Kota  Usia     Gaji Promosi\n",
      "0   Salatiga  45.0  66029.0      Ya\n",
      "1       Solo  34.0  83088.0   Tidak\n",
      "2     Klaten  38.0  81363.0      Ya\n",
      "3     Klaten   NaN  93940.0      Ya\n",
      "4       Solo  42.0  91738.0      Ya\n",
      "5   Salatiga  29.0  98273.0   Tidak\n",
      "6       Solo  30.0      NaN   Tidak\n",
      "7     Klaten  28.0  61111.0      Ya\n",
      "8     Klaten  34.0  67938.0      Ya\n",
      "9   Salatiga  39.0  57189.0      Ya\n",
      "10    Sragen  45.0  45067.0   Tidak\n",
      "-------------------------\n",
      "-------------------------\n",
      "[['Salatiga' 45.0 66029.0]\n",
      " ['Solo' 34.0 83088.0]\n",
      " ['Klaten' 38.0 81363.0]\n",
      " ['Klaten' 36.4 93940.0]\n",
      " ['Solo' 42.0 91738.0]\n",
      " ['Salatiga' 29.0 98273.0]\n",
      " ['Solo' 30.0 74573.6]\n",
      " ['Klaten' 28.0 61111.0]\n",
      " ['Klaten' 34.0 67938.0]\n",
      " ['Salatiga' 39.0 57189.0]\n",
      " ['Sragen' 45.0 45067.0]]\n"
     ]
    }
   ],
   "source": [
    "import numpy as np\n",
    "import pandas as pd\n",
    "from sklearn.impute import SimpleImputer\n",
    "from sklearn.preprocessing import LabelEncoder,OneHotEncoder\n",
    "from sklearn.compose import ColumnTransformer\n",
    "import pandas as pd\n",
    "\n",
    "\n",
    "namaFile='DataKaryawan.csv'\n",
    "data=pd.read_csv(namaFile)\n",
    "X=data.iloc[:, :-1].values\n",
    "Y=data.iloc[:,3].values\n",
    "\n",
    "#print data\n",
    "print(data)\n",
    "print(\"-------------------------\")\n",
    "print(\"-------------------------\")\n",
    "imp=SimpleImputer(missing_values=np.nan, strategy='mean')\n",
    "imp=imp.fit(X[:, 1:3])\n",
    "X[:, 1:3]=imp.transform(X[:, 1:3])\n",
    "print(X)\n",
    "\n"
   ]
  },
  {
   "cell_type": "code",
   "execution_count": 15,
   "metadata": {},
   "outputs": [
    {
     "name": "stdout",
     "output_type": "stream",
     "text": [
      "[[    0     1     0     0    45 66029]\n",
      " [    0     0     1     0    34 83088]\n",
      " [    1     0     0     0    38 81363]\n",
      " [    1     0     0     0    36 93940]\n",
      " [    0     0     1     0    42 91738]\n",
      " [    0     1     0     0    29 98273]\n",
      " [    0     0     1     0    30 74573]\n",
      " [    1     0     0     0    28 61111]\n",
      " [    1     0     0     0    34 67938]\n",
      " [    0     1     0     0    39 57189]\n",
      " [    0     0     0     1    45 45067]]\n",
      "[1 0 1 1 1 0 0 1 1 1 0]\n"
     ]
    }
   ],
   "source": [
    "#encoder\n",
    "encoder_X=LabelEncoder()\n",
    "X[:,0]=encoder_X.fit_transform(X[:,0])\n",
    "transformer=ColumnTransformer([('Kota', OneHotEncoder(),[0])], remainder='passthrough')\n",
    "X=np.array(transformer.fit_transform(X), dtype=np.integer)\n",
    "print(X)\n",
    "\n",
    "encoder_Y=LabelEncoder()\n",
    "Y=encoder_Y.fit_transform(Y)\n",
    "print(Y)"
   ]
  },
  {
   "cell_type": "code",
   "execution_count": null,
   "metadata": {},
   "outputs": [],
   "source": []
  },
  {
   "cell_type": "code",
   "execution_count": null,
   "metadata": {},
   "outputs": [],
   "source": []
  }
 ],
 "metadata": {
  "kernelspec": {
   "display_name": "Python 3",
   "language": "python",
   "name": "python3"
  },
  "language_info": {
   "codemirror_mode": {
    "name": "ipython",
    "version": 3
   },
   "file_extension": ".py",
   "mimetype": "text/x-python",
   "name": "python",
   "nbconvert_exporter": "python",
   "pygments_lexer": "ipython3",
   "version": "3.8.3"
  }
 },
 "nbformat": 4,
 "nbformat_minor": 4
}
