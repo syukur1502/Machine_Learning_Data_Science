{
 "cells": [
  {
   "cell_type": "code",
   "execution_count": 3,
   "metadata": {},
   "outputs": [
    {
     "name": "stdout",
     "output_type": "stream",
     "text": [
      "masukkan panjang=30\n",
      "masukkan lebar=30\n",
      "luas persegi panjang= 900.0 m2\n"
     ]
    }
   ],
   "source": [
    "#masukkan data panjang dan lebar\n",
    "panjang=float(input('masukkan panjang='))\n",
    "lebar=float(input('masukkan lebar='))\n",
    "#hitung luas\n",
    "luas=panjang*lebar\n",
    "#cetak luas\n",
    "print('luas persegi panjang=', luas, 'm2')"
   ]
  },
  {
   "cell_type": "code",
   "execution_count": 7,
   "metadata": {},
   "outputs": [
    {
     "name": "stdout",
     "output_type": "stream",
     "text": [
      "masukkan nilai=50\n",
      "anda perlu perbaikan\n"
     ]
    }
   ],
   "source": [
    "nilai=float(input('masukkan nilai='))\n",
    "if (nilai>60):\n",
    "    print ('anda lulus')\n",
    "elif (nilai>=40):\n",
    "    print ('anda perlu perbaikan')\n",
    "else:\n",
    "    print ('anda gagal dan harus mengulang')"
   ]
  },
  {
   "cell_type": "code",
   "execution_count": 9,
   "metadata": {},
   "outputs": [
    {
     "name": "stdout",
     "output_type": "stream",
     "text": [
      "pengulangan ke= 1\n",
      "pengulangan ke= 3\n",
      "pengulangan ke= 5\n",
      "pengulangan ke= 7\n",
      "pengulangan ke= 9\n",
      "pengulangan ke= 11\n",
      "pengulangan ke= 13\n",
      "pengulangan ke= 15\n",
      "pengulangan ke= 17\n",
      "pengulangan ke= 19\n",
      "pengulangan ke= 21\n",
      "pengulangan ke= 23\n",
      "pengulangan ke= 25\n",
      "pengulangan ke= 27\n",
      "pengulangan ke= 29\n",
      "pengulangan ke= 31\n",
      "pengulangan ke= 33\n",
      "pengulangan ke= 35\n",
      "pengulangan ke= 37\n",
      "pengulangan ke= 39\n",
      "pengulangan ke= 41\n",
      "pengulangan ke= 43\n",
      "pengulangan ke= 45\n",
      "pengulangan ke= 47\n",
      "pengulangan ke= 49\n",
      "pengulangan ke= 51\n",
      "pengulangan ke= 53\n",
      "pengulangan ke= 55\n",
      "pengulangan ke= 57\n",
      "pengulangan ke= 59\n",
      "pengulangan ke= 61\n",
      "pengulangan ke= 63\n",
      "pengulangan ke= 65\n",
      "pengulangan ke= 67\n",
      "pengulangan ke= 69\n",
      "pengulangan ke= 71\n",
      "pengulangan ke= 73\n",
      "pengulangan ke= 75\n",
      "pengulangan ke= 77\n",
      "pengulangan ke= 79\n",
      "pengulangan ke= 81\n",
      "pengulangan ke= 83\n",
      "pengulangan ke= 85\n",
      "pengulangan ke= 87\n",
      "pengulangan ke= 89\n",
      "pengulangan ke= 91\n",
      "pengulangan ke= 93\n",
      "pengulangan ke= 95\n",
      "pengulangan ke= 97\n",
      "pengulangan ke= 99\n",
      "perulangan selesai\n"
     ]
    }
   ],
   "source": [
    "ulang=1\n",
    "while (ulang < 100):\n",
    "    print(\"pengulangan ke=\", ulang)\n",
    "    ulang=ulang+2\n",
    "print (\"perulangan selesai\")"
   ]
  },
  {
   "cell_type": "code",
   "execution_count": 10,
   "metadata": {},
   "outputs": [
    {
     "name": "stdout",
     "output_type": "stream",
     "text": [
      "1\n",
      "3\n",
      "5\n",
      "7\n"
     ]
    }
   ],
   "source": [
    "ulang=[1, 3, 5, 7]\n",
    "for x in ulang:\n",
    "    print (x)"
   ]
  },
  {
   "cell_type": "code",
   "execution_count": 12,
   "metadata": {},
   "outputs": [
    {
     "name": "stdout",
     "output_type": "stream",
     "text": [
      "saya piket di hari senin\n",
      "saya piket di hari rabu\n",
      "saya piket di hari jumat\n"
     ]
    }
   ],
   "source": [
    "hari=[\"senin\", \"rabu\", \"jumat\"]\n",
    "for piket in hari:\n",
    "    print(\"saya piket di hari\", piket)"
   ]
  },
  {
   "cell_type": "code",
   "execution_count": 13,
   "metadata": {},
   "outputs": [
    {
     "name": "stdout",
     "output_type": "stream",
     "text": [
      "nilai i= 0  j= 6\n",
      "nilai i= 0  j= 7\n",
      "nilai i= 0  j= 8\n",
      "nilai i= 0  j= 9\n",
      "\n",
      "nilai i= 1  j= 6\n",
      "nilai i= 1  j= 7\n",
      "nilai i= 1  j= 8\n",
      "nilai i= 1  j= 9\n",
      "\n"
     ]
    }
   ],
   "source": [
    "for i in range (2):\n",
    "    for j in range (6,10,1):\n",
    "        print (\"nilai i=\", i, \" j=\",j)\n",
    "    print ()"
   ]
  },
  {
   "cell_type": "code",
   "execution_count": null,
   "metadata": {},
   "outputs": [],
   "source": []
  }
 ],
 "metadata": {
  "kernelspec": {
   "display_name": "Python 3",
   "language": "python",
   "name": "python3"
  },
  "language_info": {
   "codemirror_mode": {
    "name": "ipython",
    "version": 3
   },
   "file_extension": ".py",
   "mimetype": "text/x-python",
   "name": "python",
   "nbconvert_exporter": "python",
   "pygments_lexer": "ipython3",
   "version": "3.8.3"
  }
 },
 "nbformat": 4,
 "nbformat_minor": 4
}
