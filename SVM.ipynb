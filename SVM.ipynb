{
 "cells": [
  {
   "cell_type": "code",
   "execution_count": 8,
   "metadata": {},
   "outputs": [
    {
     "name": "stdout",
     "output_type": "stream",
     "text": [
      "Accucar: 0.95\n",
      "[[11  1]\n",
      " [ 0  8]]\n",
      "              precision    recall  f1-score   support\n",
      "\n",
      "           0       1.00      0.92      0.96        12\n",
      "           1       0.89      1.00      0.94         8\n",
      "\n",
      "    accuracy                           0.95        20\n",
      "   macro avg       0.94      0.96      0.95        20\n",
      "weighted avg       0.96      0.95      0.95        20\n",
      "\n"
     ]
    }
   ],
   "source": [
    "import numpy as np\n",
    "from sklearn.svm import LinearSVC\n",
    "from sklearn.preprocessing import StandardScaler\n",
    "from sklearn import datasets\n",
    "from matplotlib import pyplot as plt\n",
    "from sklearn.model_selection import train_test_split\n",
    "from sklearn.metrics import confusion_matrix\n",
    "from sklearn.metrics import classification_report\n",
    "from sklearn.metrics import roc_auc_score\n",
    "from sklearn.metrics import roc_curve\n",
    "\n",
    "#membaca input\n",
    "iris=datasets.load_iris()\n",
    "features=iris.data[:100, :2]\n",
    "target=iris.target[:100]\n",
    "\n",
    "#Standard Fitur\n",
    "scaler=StandardScaler()\n",
    "features_standardized=scaler.fit_transform(features)\n",
    "\n",
    "#data training\n",
    "x_train,x_test,y_train,y_test=train_test_split(features_standardized, target, test_size=0.2)\n",
    "\n",
    "#membuat model\n",
    "model=LinearSVC(C=1.0)\n",
    "model=model.fit(x_train,y_train)\n",
    "#prediki\n",
    "y_pred=model.predict(x_test)\n",
    "#evaluasi kerja SVM\n",
    "print('Accucar: {:.2f}'.format(model.score(x_test, y_test)))\n",
    "confusion_matrix=confusion_matrix(y_test,y_pred)\n",
    "print(confusion_matrix)\n",
    "print(classification_report(y_test, y_pred))\n"
   ]
  },
  {
   "cell_type": "code",
   "execution_count": 18,
   "metadata": {},
   "outputs": [
    {
     "data": {
      "image/png": "[encoded data removed]",
      "text/plain": [
       "<Figure size 432x288 with 1 Axes>"
      ]
     },
     "metadata": {
      "needs_background": "light"
     },
     "output_type": "display_data"
    }
   ],
   "source": [
    "#Menampilkan data\n",
    "color=[\"red\" if c==0 else \"blue\" for c in target]\n",
    "plt.scatter(x_train[:,0],x_train[:,1])\n",
    "w=model.coef_[0]\n",
    "a=-w[0]/w[1]\n",
    "\n",
    "#menampilkan hyperplane\n",
    "xx=np.linspace(-2.5, 2.5)\n",
    "yy=a*xx-(model.intercept_[0])/w[1]\n",
    "plt.plot (xx, yy)\n",
    "#plt.axis(\"off\")\n",
    "plt.show()"
   ]
  },
  {
   "cell_type": "code",
   "execution_count": null,
   "metadata": {},
   "outputs": [],
   "source": []
  }
 ],
 "metadata": {
  "kernelspec": {
   "display_name": "Python 3",
   "language": "python",
   "name": "python3"
  },
  "language_info": {
   "codemirror_mode": {
    "name": "ipython",
    "version": 3
   },
   "file_extension": ".py",
   "mimetype": "text/x-python",
   "name": "python",
   "nbconvert_exporter": "python",
   "pygments_lexer": "ipython3",
   "version": "3.8.3"
  }
 },
 "nbformat": 4,
 "nbformat_minor": 4
}
