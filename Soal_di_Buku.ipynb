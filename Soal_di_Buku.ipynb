{
 "cells": [
  {
   "cell_type": "code",
   "execution_count": 3,
   "metadata": {},
   "outputs": [
    {
     "name": "stdout",
     "output_type": "stream",
     "text": [
      "masukkan jumlah kamar= 4\n",
      "masukkan panjang kamr dalam meter= 5\n",
      "lebar kamar dalam meter= 5\n",
      "masukkan panjang keramik dalam cm= 30\n",
      "masukkan lebar keramik dalam cm = 30\n",
      " jumlah keramik yang dibutuhkan adalah   1111.111111111111\n",
      " jumlah box keramik =  222.22222222222223 Box\n",
      " jumlah bok keramik adalah  244.44444444444446  box \n",
      " Harga total adalah   30555555.555555556\n"
     ]
    }
   ],
   "source": [
    "#4.7 Proyek Latihan\n",
    "n=int(input(\"masukkan jumlah kamar= \"))\n",
    "pKamar=float(input(\"masukkan panjang kamr dalam meter= \"))\n",
    "lKamar=float (input(\"lebar kamar dalam meter= \"))\n",
    "\n",
    "pKeramik=float(input(\"masukkan panjang keramik dalam cm= \"))\n",
    "lKeramik=float(input(\"masukkan lebar keramik dalam cm = \"))\n",
    "\n",
    "luasKamar=pKamar*lKamar*10000\n",
    "luasKeramik=pKeramik*lKeramik\n",
    "\n",
    "jumlahKeramik=luasKamar*n/luasKeramik\n",
    "\n",
    "print(\" jumlah keramik yang dibutuhkan adalah  \", jumlahKeramik)\n",
    "jumlahBox=jumlahKeramik/5\n",
    "\n",
    "print(\" jumlah box keramik = \", jumlahBox, \"Box\")\n",
    "\n",
    "cadangan=0.1*jumlahBox\n",
    "\n",
    "print(\" jumlah bok keramik adalah \", cadangan+jumlahBox, \" box \")\n",
    "\n",
    "print(\" Harga total adalah  \", 125000*1.1*jumlahBox)"
   ]
  },
  {
   "cell_type": "code",
   "execution_count": 7,
   "metadata": {},
   "outputs": [
    {
     "name": "stdout",
     "output_type": "stream",
     "text": [
      "masukkan jumlah uang = 32892700\n",
      "jumlah uang seratusah  329.0\n",
      "sisa uang adalah  92700.0\n",
      " jumlqh lima puluh ribu adalah 1\n",
      "jumlah sepuluh ribuan adalah   5.0\n",
      " jumlah lima ribuan adalah 1\n",
      "jumlah seribuan adalah  -2.0\n",
      " jumlah lima ratusan adalah 1 \n",
      " jumlah cepek adalah   2.0\n"
     ]
    }
   ],
   "source": [
    "#cash\n",
    "import numpy as np\n",
    "\n",
    "uang=float(input(\"masukkan jumlah uang = \"))\n",
    "seratus=np.ceil(uang/100000)\n",
    "sisa1=np.mod(uang,100000)\n",
    "\n",
    "print(\"jumlah uang seratusah \", seratus)\n",
    "print(\"sisa uang adalah \",sisa1)\n",
    "\n",
    "sisa2=sisa1-50000\n",
    "sepuluh= np.ceil(sisa2/10000)\n",
    "sisa3=np.mod(sisa2,10000)\n",
    "\n",
    "print(\" jumlqh lima puluh ribu adalah 1\")\n",
    "print(\"jumlah sepuluh ribuan adalah  \", sepuluh)\n",
    "sisa4=sisa3-5000\n",
    "seribu=np.ceil(sisa4/1000)\n",
    "sisa5=np.mod(sisa4,1000)\n",
    "print(\" jumlah lima ribuan adalah 1\")\n",
    "print (\"jumlah seribuan adalah \", seribu)\n",
    "sisa6=sisa5-500\n",
    "cepek=sisa6/100\n",
    "print(\" jumlah lima ratusan adalah 1 \")\n",
    "print(\" jumlah cepek adalah  \", cepek)"
   ]
  },
  {
   "cell_type": "code",
   "execution_count": 8,
   "metadata": {},
   "outputs": [
    {
     "name": "stdout",
     "output_type": "stream",
     "text": [
      "masukkan jari-jari lingkaran 4\n",
      "luas lingkaran  50.24\n"
     ]
    }
   ],
   "source": [
    "#luas lingkaran\n",
    "r=float(input(\"masukkan jari-jari lingkaran \"))\n",
    "luas=3.14*r**2\n",
    "\n",
    "print(\"luas lingkaran \", luas)"
   ]
  },
  {
   "cell_type": "code",
   "execution_count": 9,
   "metadata": {},
   "outputs": [
    {
     "name": "stdout",
     "output_type": "stream",
     "text": [
      " berpaka kilogram jumlah strawberry yang akan dibeli? 4\n",
      " berpa kg jumlah jeruk yang akan dibeli 3\n",
      " berpaka kilogram jumlah Anggur yang akan dibeli? 5\n",
      " masukkan jumlah apel yang akan dibeli? 6\n",
      " berpa jumlah semangka yang akan dimasukkan 7\n",
      " total harga  750000\n"
     ]
    }
   ],
   "source": [
    "#harga strawbery\n",
    "hargaStrawbery=30000\n",
    "hargaJeruk=15000\n",
    "hargaAnggur=42000\n",
    "hargaApel=38000\n",
    "hargaSemangka=21000\n",
    "\n",
    "\n",
    "jumlahStrawbery=int(input(\" berpaka kilogram jumlah strawberry yang akan dibeli? \" ))\n",
    "jumlahJeruk=int(input(\" berpa kg jumlah jeruk yang akan dibeli \"))\n",
    "jumlahAnggur=int(input(\" berpaka kilogram jumlah Anggur yang akan dibeli? \"))\n",
    "jumlahApel=int(input(\" masukkan jumlah apel yang akan dibeli? \"))\n",
    "jumlahSemangka=int(input(\" berpa jumlah semangka yang akan dimasukkan \"))\n",
    "\n",
    "total=jumlahStrawbery*hargaStrawbery+jumlahJeruk*hargaJeruk+jumlahAnggur*hargaAnggur+jumlahApel*hargaApel+jumlahSemangka*hargaSemangka\n",
    "print(\" total harga \", total)"
   ]
  },
  {
   "cell_type": "code",
   "execution_count": 12,
   "metadata": {},
   "outputs": [
    {
     "name": "stdout",
     "output_type": "stream",
     "text": [
      " masukkan harga  4569080986\n",
      "4569080000.0\n"
     ]
    }
   ],
   "source": [
    "#harga bulatan 1000\n",
    "harga=float(input(\" masukkan harga  \"))\n",
    "sisa=np.mod(harga,1000)\n",
    "harga=harga-sisa\n",
    "print(harga)"
   ]
  },
  {
   "cell_type": "code",
   "execution_count": 1,
   "metadata": {},
   "outputs": [
    {
     "name": "stdout",
     "output_type": "stream",
     "text": [
      " Masukkan Nomor Komputer xxx\n",
      "\n",
      "--------------------------------------------------------------\n",
      "Waktu mulai akses\n",
      " Jam : 3\n",
      " menit: 4\n",
      " detik: 30\n",
      "--------------------------------------------------------------\n",
      "Waktu selesi akses\n",
      " Jam : 4\n",
      " menit: 50\n",
      " detik: 6\n",
      "--------------------------------------------------------------\n"
     ]
    }
   ],
   "source": [
    "input (\" Masukkan Nomor Komputer \")\n",
    "print()\n",
    "print(\"--------------------------------------------------------------\")\n",
    "print(\"Waktu mulai akses\")\n",
    "jam=int(input(\" Jam : \"))\n",
    "menit=int(input(\" menit: \"))\n",
    "detik=int(input(\" detik: \"))\n",
    "print(\"--------------------------------------------------------------\")\n",
    "print(\"Waktu selesi akses\")\n",
    "jam2=int(input(\" Jam : \"))\n",
    "menit2=int(input(\" menit: \"))\n",
    "detik2=int(input(\" detik: \"))\n",
    "print(\"--------------------------------------------------------------\")"
   ]
  },
  {
   "cell_type": "code",
   "execution_count": null,
   "metadata": {},
   "outputs": [],
   "source": []
  }
 ],
 "metadata": {
  "kernelspec": {
   "display_name": "Python 3",
   "language": "python",
   "name": "python3"
  },
  "language_info": {
   "codemirror_mode": {
    "name": "ipython",
    "version": 3
   },
   "file_extension": ".py",
   "mimetype": "text/x-python",
   "name": "python",
   "nbconvert_exporter": "python",
   "pygments_lexer": "ipython3",
   "version": "3.8.3"
  }
 },
 "nbformat": 4,
 "nbformat_minor": 4
}
