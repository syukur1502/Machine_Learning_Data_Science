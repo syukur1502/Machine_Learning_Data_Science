{
 "cells": [
  {
   "cell_type": "code",
   "execution_count": 1,
   "metadata": {},
   "outputs": [],
   "source": [
    "def luasLingkaran (r):\n",
    "    luas=3.14*r**2\n",
    "    return luas"
   ]
  },
  {
   "cell_type": "code",
   "execution_count": 2,
   "metadata": {},
   "outputs": [],
   "source": [
    "def luasSegitiga (b, h):\n",
    "    luas=1/2*b*h\n",
    "    return luas"
   ]
  },
  {
   "cell_type": "code",
   "execution_count": 11,
   "metadata": {},
   "outputs": [
    {
     "name": "stdout",
     "output_type": "stream",
     "text": [
      "29.0\n",
      "bukan tigaan phytagoras \n"
     ]
    }
   ],
   "source": [
    "def tigaanPhytagoras(a,b,c):\n",
    "    A=[a, b, c]\n",
    "    b=max(A)\n",
    "    jumlah=0.0\n",
    "    for i in range(3):\n",
    "        if A[i]==b:\n",
    "            continue\n",
    "        jumlah=jumlah+A[i]**2\n",
    "    #print(jumlah)\n",
    "    if jumlah==b**2:\n",
    "        print(\"tigaan phytagoras\")\n",
    "    else:\n",
    "        print(\"bukan tigaan phytagoras \")\n",
    "        \n",
    "    #print(b)\n",
    "    \n",
    "#tigaanPhytagoras(2,5,8)"
   ]
  },
  {
   "cell_type": "code",
   "execution_count": null,
   "metadata": {},
   "outputs": [],
   "source": []
  },
  {
   "cell_type": "code",
   "execution_count": null,
   "metadata": {},
   "outputs": [],
   "source": []
  }
 ],
 "metadata": {
  "kernelspec": {
   "display_name": "Python 3",
   "language": "python",
   "name": "python3"
  },
  "language_info": {
   "codemirror_mode": {
    "name": "ipython",
    "version": 3
   },
   "file_extension": ".py",
   "mimetype": "text/x-python",
   "name": "python",
   "nbconvert_exporter": "python",
   "pygments_lexer": "ipython3",
   "version": "3.8.3"
  }
 },
 "nbformat": 4,
 "nbformat_minor": 4
}
