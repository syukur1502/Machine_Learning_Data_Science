{
 "cells": [
  {
   "cell_type": "code",
   "execution_count": 4,
   "metadata": {},
   "outputs": [],
   "source": [
    "class Manusia:\n",
    "    def _init_ (self):\n",
    "        self.nama=None\n",
    "        self.umur=None\n",
    "    def setNama(self, nama):\n",
    "        self.nama=nama\n",
    "    def setUmur (self, umur):\n",
    "        self.umur=umur\n",
    "    def berjalan(self):\n",
    "        print(self.nama,'sedang berjalan')\n",
    "    def bernyayi(self):\n",
    "        print(self.nama,'sedang bernyanyi')"
   ]
  },
  {
   "cell_type": "code",
   "execution_count": 5,
   "metadata": {},
   "outputs": [
    {
     "name": "stdout",
     "output_type": "stream",
     "text": [
      "Nama benda 1:  Syukur\n"
     ]
    }
   ],
   "source": [
    "benda=Manusia()\n",
    "benda.setNama(\"Syukur\")\n",
    "print('Nama benda 1: ', benda.nama)"
   ]
  },
  {
   "cell_type": "code",
   "execution_count": null,
   "metadata": {},
   "outputs": [],
   "source": []
  }
 ],
 "metadata": {
  "kernelspec": {
   "display_name": "Python 3",
   "language": "python",
   "name": "python3"
  },
  "language_info": {
   "codemirror_mode": {
    "name": "ipython",
    "version": 3
   },
   "file_extension": ".py",
   "mimetype": "text/x-python",
   "name": "python",
   "nbconvert_exporter": "python",
   "pygments_lexer": "ipython3",
   "version": "3.8.3"
  }
 },
 "nbformat": 4,
 "nbformat_minor": 4
}
