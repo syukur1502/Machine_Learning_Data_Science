{
 "cells": [
  {
   "cell_type": "code",
   "execution_count": 1,
   "metadata": {},
   "outputs": [
    {
     "name": "stdout",
     "output_type": "stream",
     "text": [
      "halo dunia, selamat bertemu\n",
      "salam dari tangsel\n"
     ]
    }
   ],
   "source": [
    "def halo():\n",
    "    print (\"halo dunia, selamat bertemu\")\n",
    "    print (\"salam dari tangsel\")\n",
    "    return\n",
    "halo()"
   ]
  },
  {
   "cell_type": "code",
   "execution_count": 2,
   "metadata": {},
   "outputs": [
    {
     "name": "stdout",
     "output_type": "stream",
     "text": [
      "luas persegi panjang= 6.000000\n"
     ]
    }
   ],
   "source": [
    "def luaspersegipanjang(length,width):\n",
    "    area=length*width\n",
    "    print(\"luas persegi panjang= %f\" %area)\n",
    "    \n",
    "luaspersegipanjang(2,3)"
   ]
  },
  {
   "cell_type": "code",
   "execution_count": 12,
   "metadata": {},
   "outputs": [
    {
     "name": "stdout",
     "output_type": "stream",
     "text": [
      "(25.12, 12.56)\n"
     ]
    }
   ],
   "source": [
    "def luaslingkaran (r):\n",
    "    area=2*3.14*r**2\n",
    "    circ=2*3.14*r\n",
    "    return area, circ\n",
    "print(luaslingkaran(2))\n"
   ]
  },
  {
   "cell_type": "code",
   "execution_count": 13,
   "metadata": {},
   "outputs": [
    {
     "name": "stdout",
     "output_type": "stream",
     "text": [
      "Berapa faktorial = 5\n",
      "0 !=  1\n",
      "1 !=  1\n",
      "2 !=  2\n",
      "3 !=  6\n",
      "4 !=  24\n",
      "5 !=  120\n"
     ]
    }
   ],
   "source": [
    "def faktorial(n):\n",
    "    if n<=1:\n",
    "        return 1\n",
    "    else:\n",
    "        return n*faktorial(n-1)\n",
    "i=0\n",
    "n=int(input(\"Berapa faktorial = \"))\n",
    "while (i<=n):\n",
    "    print (i, '!= ', faktorial(i))\n",
    "    i+=1"
   ]
  },
  {
   "cell_type": "code",
   "execution_count": null,
   "metadata": {},
   "outputs": [],
   "source": []
  }
 ],
 "metadata": {
  "kernelspec": {
   "display_name": "Python 3",
   "language": "python",
   "name": "python3"
  },
  "language_info": {
   "codemirror_mode": {
    "name": "ipython",
    "version": 3
   },
   "file_extension": ".py",
   "mimetype": "text/x-python",
   "name": "python",
   "nbconvert_exporter": "python",
   "pygments_lexer": "ipython3",
   "version": "3.8.3"
  }
 },
 "nbformat": 4,
 "nbformat_minor": 4
}
