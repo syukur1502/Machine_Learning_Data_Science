{
 "cells": [
  {
   "cell_type": "code",
   "execution_count": 36,
   "metadata": {},
   "outputs": [
    {
     "name": "stdout",
     "output_type": "stream",
     "text": [
      "          orderid      itemid\n",
      "0  31379820545759   719740607\n",
      "1  31378575577269  1825360194\n",
      "2  31369591568249  1108903291\n",
      "3  31369836201769  4507360843\n",
      "4  31372360246729  1821888475\n",
      "                              rule\n",
      "0               100242812>80361758\n",
      "1               100242812>89031406\n",
      "2            1003153762>1016449477\n",
      "3            1006024995>2727415265\n",
      "4             1006024995>866012366\n",
      "5            1006149508>2867088619\n",
      "6             1006149508>599643179\n",
      "7             1006149508>943964984\n",
      "8  1008435393&1008455319>454021998\n",
      "9  1008435393&1336146681>454021998\n"
     ]
    }
   ],
   "source": [
    "import numpy as np\n",
    "import pandas as pd\n",
    "import math\n",
    "assc=pd.read_csv('association_order.csv')\n",
    "print(assc.head())\n",
    "rules=pd.read_csv('rules.csv')\n",
    "\n",
    "print(rules.head(10))"
   ]
  },
  {
   "cell_type": "code",
   "execution_count": 82,
   "metadata": {},
   "outputs": [
    {
     "data": {
      "text/plain": [
       "(423861, 2)"
      ]
     },
     "execution_count": 82,
     "metadata": {},
     "output_type": "execute_result"
    }
   ],
   "source": [
    "Arassc=np.asarray(assc)\n",
    "np.shape(assc)"
   ]
  },
  {
   "cell_type": "code",
   "execution_count": 10,
   "metadata": {},
   "outputs": [
    {
     "data": {
      "text/plain": [
       "rule    0\n",
       "dtype: int64"
      ]
     },
     "execution_count": 10,
     "metadata": {},
     "output_type": "execute_result"
    }
   ],
   "source": [
    "assc.isnull().sum(axis = 0)\n",
    "rules.isnull().sum(axis=0)"
   ]
  },
  {
   "cell_type": "code",
   "execution_count": 81,
   "metadata": {},
   "outputs": [
    {
     "data": {
      "text/plain": [
       "array([ 719740607, 1825360194, 1108903291, ..., 6912791179, 1340457527,\n",
       "       1488272669], dtype=int64)"
      ]
     },
     "execution_count": 81,
     "metadata": {},
     "output_type": "execute_result"
    }
   ],
   "source": [
    "assc.itemid.unique()"
   ]
  },
  {
   "cell_type": "code",
   "execution_count": 80,
   "metadata": {},
   "outputs": [
    {
     "name": "stdout",
     "output_type": "stream",
     "text": [
      "['100242812>89031406']\n",
      "11\n"
     ]
    }
   ],
   "source": [
    "Arrules=np.asarray(rules)\n",
    "#print(Arrules)\n",
    "character=str(Arrules[1])\n",
    "print (character)\n",
    "print(character.index(\">\"))"
   ]
  },
  {
   "cell_type": "code",
   "execution_count": 68,
   "metadata": {},
   "outputs": [
    {
     "data": {
      "text/plain": [
       "5"
      ]
     },
     "execution_count": 68,
     "metadata": {},
     "output_type": "execute_result"
    }
   ],
   "source": [
    "#fungsi cek tanda &\n",
    "def cek_dan(word):\n",
    "    cek=word.find(\"&\")\n",
    "    return cek\n",
    "\n",
    "cek_dan(\"halos&\")"
   ]
  },
  {
   "cell_type": "code",
   "execution_count": 70,
   "metadata": {},
   "outputs": [
    {
     "data": {
      "text/plain": [
       "4"
      ]
     },
     "execution_count": 70,
     "metadata": {},
     "output_type": "execute_result"
    }
   ],
   "source": [
    "def cek_korelasi (word):\n",
    "    cek_kor=word.find(\">\")\n",
    "    return cek_kor\n",
    "cek_korelasi(\"halo>kamu\")"
   ]
  },
  {
   "cell_type": "code",
   "execution_count": 72,
   "metadata": {},
   "outputs": [
    {
     "data": {
      "text/plain": [
       "2697336272    217\n",
       "1897730934    215\n",
       "2399078400    204\n",
       "1587892462    176\n",
       "2283907823    126\n",
       "             ... \n",
       "239524422       1\n",
       "780592193       1\n",
       "2790705732      1\n",
       "2441542210      1\n",
       "75102542        1\n",
       "Name: itemid, Length: 239702, dtype: int64"
      ]
     },
     "execution_count": 72,
     "metadata": {},
     "output_type": "execute_result"
    }
   ],
   "source": [
    "assc.itemid.value_counts()"
   ]
  },
  {
   "cell_type": "code",
   "execution_count": null,
   "metadata": {},
   "outputs": [
    {
     "name": "stderr",
     "output_type": "stream",
     "text": [
      "<ipython-input-110-a53f2c32aaf3>:14: FutureWarning: elementwise comparison failed; returning scalar instead, but in the future will perform elementwise comparison\n",
      "  if Arassc[j]==a:\n",
      "<ipython-input-110-a53f2c32aaf3>:16: FutureWarning: elementwise comparison failed; returning scalar instead, but in the future will perform elementwise comparison\n",
      "  if Arassc[j]==b:\n",
      "<ipython-input-110-a53f2c32aaf3>:32: FutureWarning: elementwise comparison failed; returning scalar instead, but in the future will perform elementwise comparison\n",
      "  if Arassc[j]==a:\n",
      "<ipython-input-110-a53f2c32aaf3>:34: FutureWarning: elementwise comparison failed; returning scalar instead, but in the future will perform elementwise comparison\n",
      "  if Arassc[j]==b:\n",
      "<ipython-input-110-a53f2c32aaf3>:36: FutureWarning: elementwise comparison failed; returning scalar instead, but in the future will perform elementwise comparison\n",
      "  if Arassc[j]==c:\n"
     ]
    }
   ],
   "source": [
    "for i in range (len(Arrules)):\n",
    "    W=str(Arrules[i])\n",
    "    length=len(W)\n",
    "    end=length-1\n",
    "    cek=W.find(\"&\")\n",
    "    if cek==-1:\n",
    "        cek_kor=W.find(\">\")\n",
    "        limdown=cek_kor-1\n",
    "        limup=cek_kor+1\n",
    "        a=W[0:limdown]\n",
    "        b=W[limup:end]\n",
    "        \n",
    "        for j in range(len(Arassc)):\n",
    "            if Arassc[j]==a:\n",
    "                jumlah_a=jumlah_a+1\n",
    "            if Arassc[j]==b:\n",
    "                jumlah_b=jumlah_b+1\n",
    "        if (jumlah_a==0 or jumlah_b==0):\n",
    "            korelasi=0\n",
    "        else:\n",
    "            korelasi=(jumlah_a+jumlah_b)/jumlah_a*1000\n",
    "    else:\n",
    "        cek_korelasi(W)\n",
    "        limdown=cek_kor-1\n",
    "        limup=cek_kor+1\n",
    "        lim1=cek-1\n",
    "        lim2=cek+1\n",
    "        a=W[0:lim1]\n",
    "        b=W[lim2:limdown]\n",
    "        c=W[limup:end]\n",
    "        for j in range(len(Arassc)):\n",
    "            if Arassc[j]==a:\n",
    "                jumlah_a=jumlah_a+1\n",
    "            if Arassc[j]==b:\n",
    "                jumlah_b=jumlah_b+1\n",
    "            if Arassc[j]==c:\n",
    "                jumlah_c=jumlah_c+1\n",
    "        if (jumlah_a==0 or jumlah_b==0 or jumlah_c==0):\n",
    "            korelasi=0\n",
    "        else:\n",
    "            korelasi=(jumlah_a+jumlah_b+jumlah_c)/jumlah_a\n",
    "    \n",
    "        "
   ]
  },
  {
   "cell_type": "code",
   "execution_count": null,
   "metadata": {},
   "outputs": [],
   "source": [
    "submission = pd.DataFrame({\n",
    "        \"rule\": rules[\"rule\"],\n",
    "        \"Confidence\": korelasi\n",
    "    })\n",
    "\n",
    "submission.to_csv('rule.csv', index=False)\n"
   ]
  },
  {
   "cell_type": "code",
   "execution_count": null,
   "metadata": {},
   "outputs": [],
   "source": []
  },
  {
   "cell_type": "code",
   "execution_count": null,
   "metadata": {},
   "outputs": [],
   "source": []
  },
  {
   "cell_type": "code",
   "execution_count": null,
   "metadata": {},
   "outputs": [],
   "source": []
  },
  {
   "cell_type": "code",
   "execution_count": null,
   "metadata": {},
   "outputs": [],
   "source": []
  }
 ],
 "metadata": {
  "kernelspec": {
   "display_name": "Python 3",
   "language": "python",
   "name": "python3"
  },
  "language_info": {
   "codemirror_mode": {
    "name": "ipython",
    "version": 3
   },
   "file_extension": ".py",
   "mimetype": "text/x-python",
   "name": "python",
   "nbconvert_exporter": "python",
   "pygments_lexer": "ipython3",
   "version": "3.8.3"
  }
 },
 "nbformat": 4,
 "nbformat_minor": 4
}
